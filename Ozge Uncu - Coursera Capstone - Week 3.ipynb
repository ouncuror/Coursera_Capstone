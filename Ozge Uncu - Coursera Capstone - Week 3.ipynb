{
    "nbformat_minor": 1, 
    "cells": [
        {
            "source": "# Week 3 Assignment #", 
            "cell_type": "markdown", 
            "metadata": {
                "collapsed": true
            }
        }, 
        {
            "source": "## Create Toronto data frame and Submit a link to your Notebook on your Github repository. (10 marks) ##", 
            "cell_type": "markdown", 
            "metadata": {}
        }, 
        {
            "execution_count": 1, 
            "cell_type": "code", 
            "metadata": {}, 
            "outputs": [
                {
                    "output_type": "stream", 
                    "name": "stdout", 
                    "text": "Fetching package metadata .............\nSolving package specifications: .\n\n# All requested packages already installed.\n# packages in environment at /opt/conda/envs/DSX-Python35:\n#\ngeocoder                  1.38.1                     py_0    conda-forge\n"
                }
            ], 
            "source": "# import necessary packages\nimport pandas as pd"
        }, 
        {
            "source": "First read the table from wiki", 
            "cell_type": "markdown", 
            "metadata": {}
        }, 
        {
            "execution_count": 2, 
            "cell_type": "code", 
            "metadata": {}, 
            "outputs": [], 
            "source": "# wikipedia url\nurl = 'https://en.wikipedia.org/wiki/List_of_postal_codes_of_Canada:_M'"
        }, 
        {
            "source": "Extract the table", 
            "cell_type": "markdown", 
            "metadata": {}
        }, 
        {
            "source": "Read html table into pandas dataframe", 
            "cell_type": "markdown", 
            "metadata": {}
        }, 
        {
            "execution_count": 3, 
            "cell_type": "code", 
            "metadata": {}, 
            "outputs": [], 
            "source": "# Read html table into pandas dataframe\nmy_list = pd.read_html(url, header=0,match='Postcode')\ndf = my_list[0]"
        }, 
        {
            "execution_count": 4, 
            "cell_type": "code", 
            "metadata": {}, 
            "outputs": [], 
            "source": "# drop the rows with borough not assigned\ndf = df[df['Borough']!='Not assigned']"
        }, 
        {
            "execution_count": 5, 
            "cell_type": "code", 
            "metadata": {}, 
            "outputs": [], 
            "source": "# sort data drame by postal codes\ndf=df.sort_values(by=['Postcode'])"
        }, 
        {
            "execution_count": 6, 
            "cell_type": "code", 
            "metadata": {}, 
            "outputs": [], 
            "source": "# initialize another dataframe with first row of the table sorted by postal code\ndf2 = pd.DataFrame(df.iloc[0]).transpose()"
        }, 
        {
            "execution_count": 7, 
            "cell_type": "code", 
            "metadata": {}, 
            "outputs": [], 
            "source": "# loop through the sorted table\nj = 1\nfor i in range(1, df.shape[0]):\n    # if the postal code is same as the last postal code, append the neighbourhood\n    if df.iloc[i]['Postcode'] == df2.iloc[j-1]['Postcode']:\n        df2.iloc[j-1]['Neighbourhood'] = df2.iloc[j-1]['Neighbourhood'] + ', ' + df.iloc[i]['Neighbourhood']\n    # otherwise add the row to the new dataframe\n    else:\n        df2 = df2.append(pd.DataFrame(df.iloc[i]).transpose())\n        j = j + 1 "
        }, 
        {
            "execution_count": 8, 
            "cell_type": "code", 
            "metadata": {}, 
            "outputs": [], 
            "source": "# if the neighbourhood is not assigned, assigned the borough value in the same row to neighbourhood\ndf2.loc[df2['Neighbourhood'] == 'Not assigned','Neighbourhood']=df2.loc[df2['Neighbourhood'] == 'Not assigned','Borough']"
        }, 
        {
            "execution_count": 9, 
            "cell_type": "code", 
            "metadata": {}, 
            "outputs": [
                {
                    "execution_count": 9, 
                    "metadata": {}, 
                    "data": {
                        "text/plain": "(103, 3)"
                    }, 
                    "output_type": "execute_result"
                }
            ], 
            "source": "df2.shape"
        }, 
        {
            "source": "## Add geocode info and submit a link to the new Notebook on your Github repository. (2 marks) ##", 
            "cell_type": "markdown", 
            "metadata": {}
        }, 
        {
            "execution_count": 19, 
            "cell_type": "code", 
            "metadata": {}, 
            "outputs": [
                {
                    "output_type": "stream", 
                    "name": "stdout", 
                    "text": "geocode data read\n"
                }
            ], 
            "source": "# Read the geocode data\ngeocode_data = pd.read_csv('http://cocl.us/Geospatial_data')\nprint('geocode data read')"
        }, 
        {
            "execution_count": 23, 
            "cell_type": "code", 
            "metadata": {}, 
            "outputs": [
                {
                    "execution_count": 23, 
                    "metadata": {}, 
                    "data": {
                        "text/html": "<div>\n<style scoped>\n    .dataframe tbody tr th:only-of-type {\n        vertical-align: middle;\n    }\n\n    .dataframe tbody tr th {\n        vertical-align: top;\n    }\n\n    .dataframe thead th {\n        text-align: right;\n    }\n</style>\n<table border=\"1\" class=\"dataframe\">\n  <thead>\n    <tr style=\"text-align: right;\">\n      <th></th>\n      <th>Postcode</th>\n      <th>Borough</th>\n      <th>Neighbourhood</th>\n      <th>Postal Code</th>\n      <th>Latitude</th>\n      <th>Longitude</th>\n    </tr>\n  </thead>\n  <tbody>\n    <tr>\n      <th>0</th>\n      <td>M1B</td>\n      <td>Scarborough</td>\n      <td>Rouge, Malvern</td>\n      <td>M1B</td>\n      <td>43.806686</td>\n      <td>-79.194353</td>\n    </tr>\n    <tr>\n      <th>1</th>\n      <td>M1C</td>\n      <td>Scarborough</td>\n      <td>Port Union, Rouge Hill, Highland Creek</td>\n      <td>M1C</td>\n      <td>43.784535</td>\n      <td>-79.160497</td>\n    </tr>\n    <tr>\n      <th>2</th>\n      <td>M1E</td>\n      <td>Scarborough</td>\n      <td>Guildwood, Morningside, West Hill</td>\n      <td>M1E</td>\n      <td>43.763573</td>\n      <td>-79.188711</td>\n    </tr>\n    <tr>\n      <th>3</th>\n      <td>M1G</td>\n      <td>Scarborough</td>\n      <td>Woburn</td>\n      <td>M1G</td>\n      <td>43.770992</td>\n      <td>-79.216917</td>\n    </tr>\n    <tr>\n      <th>4</th>\n      <td>M1H</td>\n      <td>Scarborough</td>\n      <td>Cedarbrae</td>\n      <td>M1H</td>\n      <td>43.773136</td>\n      <td>-79.239476</td>\n    </tr>\n  </tbody>\n</table>\n</div>", 
                        "text/plain": "  Postcode      Borough                           Neighbourhood Postal Code  \\\n0      M1B  Scarborough                          Rouge, Malvern         M1B   \n1      M1C  Scarborough  Port Union, Rouge Hill, Highland Creek         M1C   \n2      M1E  Scarborough       Guildwood, Morningside, West Hill         M1E   \n3      M1G  Scarborough                                  Woburn         M1G   \n4      M1H  Scarborough                               Cedarbrae         M1H   \n\n    Latitude  Longitude  \n0  43.806686 -79.194353  \n1  43.784535 -79.160497  \n2  43.763573 -79.188711  \n3  43.770992 -79.216917  \n4  43.773136 -79.239476  "
                    }, 
                    "output_type": "execute_result"
                }
            ], 
            "source": "# Join the data frames to add the latitude and longitude by postal code\ndf3 = pd.merge(df2, geocode_data, how='left', left_on=['Postcode'], right_on=['Postal Code'])\ndf3.drop(['Postal Code'], axis=1)"
        }, 
        {
            "execution_count": null, 
            "cell_type": "code", 
            "metadata": {}, 
            "outputs": [], 
            "source": ""
        }
    ], 
    "metadata": {
        "kernelspec": {
            "display_name": "Python 3.5", 
            "name": "python3", 
            "language": "python"
        }, 
        "language_info": {
            "mimetype": "text/x-python", 
            "nbconvert_exporter": "python", 
            "version": "3.5.5", 
            "name": "python", 
            "file_extension": ".py", 
            "pygments_lexer": "ipython3", 
            "codemirror_mode": {
                "version": 3, 
                "name": "ipython"
            }
        }
    }, 
    "nbformat": 4
}