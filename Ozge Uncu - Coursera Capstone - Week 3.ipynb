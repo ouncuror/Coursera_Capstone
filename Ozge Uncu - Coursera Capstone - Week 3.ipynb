{
    "nbformat_minor": 1, 
    "cells": [
        {
            "source": "# Week 3 Assignment #", 
            "cell_type": "markdown", 
            "metadata": {
                "collapsed": true
            }
        }, 
        {
            "execution_count": 1, 
            "cell_type": "code", 
            "metadata": {}, 
            "outputs": [], 
            "source": "# import necessary packages\nimport pandas as pd"
        }, 
        {
            "source": "First read the table from wiki", 
            "cell_type": "markdown", 
            "metadata": {}
        }, 
        {
            "execution_count": 2, 
            "cell_type": "code", 
            "metadata": {}, 
            "outputs": [], 
            "source": "# wikipedia url\nurl = 'https://en.wikipedia.org/wiki/List_of_postal_codes_of_Canada:_M'"
        }, 
        {
            "source": "Extract the table", 
            "cell_type": "markdown", 
            "metadata": {}
        }, 
        {
            "source": "Read html table into pandas dataframe", 
            "cell_type": "markdown", 
            "metadata": {}
        }, 
        {
            "execution_count": 3, 
            "cell_type": "code", 
            "metadata": {}, 
            "outputs": [], 
            "source": "# Read html table into pandas dataframe\nmy_list = pd.read_html(url, header=0,match='Postcode')\ndf = my_list[0]"
        }, 
        {
            "execution_count": 4, 
            "cell_type": "code", 
            "metadata": {}, 
            "outputs": [], 
            "source": "# drop the rows with borough not assigned\ndf = df[df['Borough']!='Not assigned']"
        }, 
        {
            "execution_count": 5, 
            "cell_type": "code", 
            "metadata": {}, 
            "outputs": [], 
            "source": "# sort data drame by postal codes\ndf=df.sort_values(by=['Postcode'])"
        }, 
        {
            "execution_count": 6, 
            "cell_type": "code", 
            "metadata": {}, 
            "outputs": [], 
            "source": "# initialize another dataframe with first row of the table sorted by postal code\ndf2 = pd.DataFrame(df.iloc[0]).transpose()"
        }, 
        {
            "execution_count": 7, 
            "cell_type": "code", 
            "metadata": {}, 
            "outputs": [], 
            "source": "# loop through the sorted table\nj = 1\nfor i in range(1, df.shape[0]):\n    # if the postal code is same as the last postal code, append the neighbourhood\n    if df.iloc[i]['Postcode'] == df2.iloc[j-1]['Postcode']:\n        df2.iloc[j-1]['Neighbourhood'] = df2.iloc[j-1]['Neighbourhood'] + ', ' + df.iloc[i]['Neighbourhood']\n    # otherwise add the row to the new dataframe\n    else:\n        df2 = df2.append(pd.DataFrame(df.iloc[i]).transpose())\n        j = j + 1 "
        }, 
        {
            "execution_count": 8, 
            "cell_type": "code", 
            "metadata": {}, 
            "outputs": [], 
            "source": "# if the neighbourhood is not assigned, assigned the borough value in the same row to neighbourhood\ndf2.loc[df2['Neighbourhood'] == 'Not assigned','Neighbourhood']=df2.loc[df2['Neighbourhood'] == 'Not assigned','Borough']"
        }, 
        {
            "execution_count": 9, 
            "cell_type": "code", 
            "metadata": {}, 
            "outputs": [
                {
                    "execution_count": 9, 
                    "metadata": {}, 
                    "data": {
                        "text/plain": "(103, 3)"
                    }, 
                    "output_type": "execute_result"
                }
            ], 
            "source": "df2.shape"
        }, 
        {
            "execution_count": null, 
            "cell_type": "code", 
            "metadata": {}, 
            "outputs": [], 
            "source": ""
        }
    ], 
    "metadata": {
        "kernelspec": {
            "display_name": "Python 3.5", 
            "name": "python3", 
            "language": "python"
        }, 
        "language_info": {
            "mimetype": "text/x-python", 
            "nbconvert_exporter": "python", 
            "version": "3.5.5", 
            "name": "python", 
            "file_extension": ".py", 
            "pygments_lexer": "ipython3", 
            "codemirror_mode": {
                "version": 3, 
                "name": "ipython"
            }
        }
    }, 
    "nbformat": 4
}